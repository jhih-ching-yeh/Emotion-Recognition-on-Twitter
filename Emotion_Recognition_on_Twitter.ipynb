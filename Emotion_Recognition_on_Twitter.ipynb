{
  "cells": [
    {
      "cell_type": "markdown",
      "metadata": {
        "id": "pO2rhlzzwEns"
      },
      "source": [
        "# Emotion Recognition on Twitter"
      ]
    },
    {
      "cell_type": "markdown",
      "metadata": {
        "id": "uUPeS9uKwEnu"
      },
      "source": [
        "## Table of Contents\n",
        "1. Read Data\n",
        "2. Data Exploration: Hashtag>>Emotion\n",
        "    - Anger Hashtag\n",
        "    - Anticipation Hashtag\n",
        "    - Disgust Hashtag\n",
        "    - Fear Hashtag\n",
        "    - Sadness Hashtag\n",
        "    - Surprise Hashtag\n",
        "    - Trust Hashtag\n",
        "    - Joy Hashtag\n",
        "3. Data Exploration: Emoji>>Emotion\n",
        "4. Bert Model\n",
        "    - Data preprocessing\n",
        "    - Using pre-trained words embedding (glove)\n",
        "    - Bert Model\n",
        "    - Create submition csv\n",
        "5. Association Rule by Result with Hashtag, Emoji and Bert Model"
      ]
    },
    {
      "cell_type": "code",
      "execution_count": null,
      "metadata": {
        "id": "neEbVVWwwEnv",
        "outputId": "e573efef-f640-4288-ff31-41440e83243a"
      },
      "outputs": [
        {
          "name": "stderr",
          "output_type": "stream",
          "text": [
            "/Users/jhihchingyeh/opt/anaconda3/lib/python3.8/site-packages/tqdm/std.py:697: FutureWarning: The Panel class is removed from pandas. Accessing it from the top-level namespace will also be removed in the next version\n",
            "  from pandas import Panel\n",
            "[nltk_data] Downloading package stopwords to\n",
            "[nltk_data]     /Users/jhihchingyeh/nltk_data...\n",
            "[nltk_data]   Package stopwords is already up-to-date!\n"
          ]
        }
      ],
      "source": [
        "import os\n",
        "import numpy as np\n",
        "import pandas as pd\n",
        "import json \n",
        "from sklearn.model_selection import train_test_split\n",
        "import re\n",
        "import string\n",
        "import nltk\n",
        "import matplotlib.pyplot as plt\n",
        "import seaborn as sns\n",
        "import warnings\n",
        "from tqdm import tqdm\n",
        "tqdm.pandas(desc=\"progress-bar\")\n",
        "from gensim.models.doc2vec import TaggedDocument\n",
        "import nltk\n",
        "nltk.download('stopwords')\n",
        "from nltk.corpus import stopwords\n",
        "from nltk.stem.porter import PorterStemmer\n",
        "from nltk.tokenize import word_tokenize\n",
        "from nltk.probability import FreqDist\n",
        "from nltk import FreqDist\n",
        "import emoji"
      ]
    },
    {
      "cell_type": "code",
      "execution_count": null,
      "metadata": {
        "id": "lAkQrPZ2wEnv",
        "outputId": "2223b5d6-8301-456f-ecf1-8cccb7e59f1d"
      },
      "outputs": [
        {
          "name": "stdout",
          "output_type": "stream",
          "text": [
            "/Users/jhihchingyeh/DMLab2/kaggle\n"
          ]
        }
      ],
      "source": [
        "print(os.path.abspath(os.getcwd()))"
      ]
    },
    {
      "cell_type": "code",
      "execution_count": null,
      "metadata": {
        "id": "smEA8-VmwEnw"
      },
      "outputs": [],
      "source": [
        "path = \"/Users/jhihchingyeh/DMLab2/kaggle/new_hw2/Data_Preprocess/data\""
      ]
    },
    {
      "cell_type": "markdown",
      "metadata": {
        "id": "s_SQ8p2ewEnw"
      },
      "source": [
        "## 1. Read Data"
      ]
    },
    {
      "cell_type": "code",
      "execution_count": null,
      "metadata": {
        "id": "rYY9wpuUwEnx"
      },
      "outputs": [],
      "source": [
        "# Read Data\n",
        "def read_data(path):\n",
        "    os.chdir(path)\n",
        "    # csv\n",
        "    data_id = pd.read_csv(\"data_identification.csv\") #1867535\n",
        "    emotion = pd.read_csv(\"emotion.csv\") #1455563\n",
        "    sampleSubmission = pd.read_csv(\"sampleSubmission.csv\") #411972\n",
        "    # json\n",
        "    tweets = []\n",
        "    for line in open('tweets_DM.json', 'r'):\n",
        "        line_ = json.loads(line)\n",
        "        tweets.append(line_)\n",
        "    # json to dataframe #1867535\n",
        "    df = pd.DataFrame(columns=['tweet_id','text', 'hashtags'])\n",
        "    df[\"tweet_id\"] = [tweet[\"_source\"][\"tweet\"][\"tweet_id\"] for tweet in tweets]\n",
        "    df[\"text\"] = [tweet[\"_source\"][\"tweet\"][\"text\"] for tweet in tweets]\n",
        "    df[\"hashtags\"] = [tweet[\"_source\"][\"tweet\"][\"hashtags\"] for tweet in tweets]\n",
        "    return df, data_id, emotion, sampleSubmission"
      ]
    },
    {
      "cell_type": "code",
      "execution_count": null,
      "metadata": {
        "id": "AQe-8z8MwEnx"
      },
      "outputs": [],
      "source": [
        "# Split data into train and test data\n",
        "def split_data(df, data_id, emotion, sampleSubmission):\n",
        "    # - train\n",
        "    train_df = pd.merge(data_id,emotion)\n",
        "    train_df = pd.merge(train_df,df)\n",
        "    # - pred\n",
        "    pred_df = data_id.loc[data_id['identification'] == 'test']\n",
        "    Submission = sampleSubmission.rename(columns={'id':'tweet_id'})\n",
        "    Submission = pd.merge(Submission, pred_df)\n",
        "    pred_df = pd.merge(Submission, df)\n",
        "    return train_df, pred_df #1455563 #411972"
      ]
    },
    {
      "cell_type": "code",
      "execution_count": null,
      "metadata": {
        "id": "AmXYGiXEwEnx",
        "outputId": "9f4f09ba-17a2-4b0c-f6ad-0163846bf4b2"
      },
      "outputs": [
        {
          "name": "stdout",
          "output_type": "stream",
          "text": [
            "(1455563, 6)\n",
            "(411972, 5)\n"
          ]
        }
      ],
      "source": [
        "# Save to csv to save the time next\n",
        "df, data_id, emotion, sampleSubmission = read_data(path)\n",
        "train_df, pred_df = split_data(df, data_id, emotion, sampleSubmission)\n",
        "train_df[\"emotion_code\"] = train_df.emotion.map({\"anger\":0, \"anticipation\":1, \"disgust\":2, \"fear\":3, \"sadness\":4, \"surprise\":5, \"trust\":6, \"joy\":7})\n",
        "pd.DataFrame(train_df).to_csv(\"train_new.csv\", index=False)\n",
        "pd.DataFrame(pred_df).to_csv(\"pred_new.csv\", index=False)\n",
        "print(train_df.shape)\n",
        "print(pred_df.shape)"
      ]
    },
    {
      "cell_type": "markdown",
      "metadata": {
        "id": "-HLclo3awEny"
      },
      "source": [
        "---"
      ]
    },
    {
      "cell_type": "markdown",
      "metadata": {
        "id": "pTGdXKM9wEny"
      },
      "source": [
        "## 2. Data Exploration - Hashtag>>Emotion"
      ]
    },
    {
      "cell_type": "code",
      "execution_count": null,
      "metadata": {
        "id": "9bXoxpeNwEny"
      },
      "outputs": [],
      "source": [
        "# Lower case\n",
        "def lower_text(text):\n",
        "    text = text.lower()\n",
        "    return text"
      ]
    },
    {
      "cell_type": "code",
      "execution_count": null,
      "metadata": {
        "id": "61aVs8R4wEny"
      },
      "outputs": [],
      "source": [
        "# Collect the hashtags\n",
        "def hashtag_extract(x):\n",
        "    hashtags = []\n",
        "    for i in x:\n",
        "        ht = re.findall(r\"#(\\w+)\", i)\n",
        "        hashtags.append(ht)\n",
        "    return hashtags"
      ]
    },
    {
      "cell_type": "code",
      "execution_count": null,
      "metadata": {
        "id": "q0C5VmYBwEny"
      },
      "outputs": [],
      "source": [
        "# Read and initiate the emotion data\n",
        "emotion = [\"anger\", \"anticipation\", \"disgust\", \"fear\", \"sadness\", \"surprise\", \"trust\", \"joy\"]\n",
        "train = pd.read_csv('train_new.csv', lineterminator='\\n')\n",
        "test = pd.read_csv('pred_new.csv', lineterminator='\\n')\n",
        "test[\"emotion\"] = 0"
      ]
    },
    {
      "cell_type": "code",
      "execution_count": null,
      "metadata": {
        "id": "1-5QOHl1wEny"
      },
      "outputs": [],
      "source": [
        "# Lower each word\n",
        "train.text = train.text.apply(lambda x: lower_text(x))\n",
        "test.text = test.text.apply(lambda x: lower_text(x))\n",
        "\n",
        "# Extract hashtags from emotion tweets\n",
        "HT_anger = hashtag_extract(train['text'][train['emotion_code'] == 0])\n",
        "HT_anticipation = hashtag_extract(train['text'][train['emotion_code'] == 1])\n",
        "HT_disgust = hashtag_extract(train['text'][train['emotion_code'] == 2])\n",
        "HT_fear = hashtag_extract(train['text'][train['emotion_code'] == 3])\n",
        "HT_sadness = hashtag_extract(train['text'][train['emotion_code'] == 4])\n",
        "HT_surprise = hashtag_extract(train['text'][train['emotion_code'] == 5])\n",
        "HT_trust = hashtag_extract(train['text'][train['emotion_code'] == 6])\n",
        "HT_joy = hashtag_extract(train['text'][train['emotion_code'] == 7])"
      ]
    },
    {
      "cell_type": "code",
      "execution_count": null,
      "metadata": {
        "id": "TedbYA4mwEnz",
        "outputId": "0eb39210-a759-4d0b-9c1c-3ce68773af56"
      },
      "outputs": [
        {
          "name": "stdout",
          "output_type": "stream",
          "text": [
            "HT_anger finish\n",
            "HT_anticipation finish\n",
            "HT_disgust finish\n",
            "HT_fear finish\n",
            "HT_sadness finish\n",
            "HT_surprise finish\n",
            "HT_trust finish\n",
            "HT_joy finish\n"
          ]
        }
      ],
      "source": [
        "# Unnesting list\n",
        "# It takes a long long time\n",
        "HT_anger = sum(HT_anger,[])\n",
        "print(\"HT_anger finish\")\n",
        "HT_anticipation = sum(HT_anticipation,[])\n",
        "print(\"HT_anticipation finish\")\n",
        "HT_disgust = sum(HT_disgust,[])\n",
        "print(\"HT_disgust finish\")\n",
        "HT_fear = sum(HT_fear,[])\n",
        "print(\"HT_fear finish\")\n",
        "HT_sadness = sum(HT_sadness,[])\n",
        "print(\"HT_sadness finish\")\n",
        "HT_surprise = sum(HT_surprise,[])\n",
        "print(\"HT_surprise finish\")\n",
        "HT_trust = sum(HT_trust,[])\n",
        "print(\"HT_trust finish\")\n",
        "HT_joy = sum(HT_joy,[])\n",
        "print(\"HT_joy finish\")"
      ]
    },
    {
      "cell_type": "markdown",
      "metadata": {
        "id": "fX30GgqTwEnz"
      },
      "source": [
        "### Anger Hashtag"
      ]
    },
    {
      "cell_type": "code",
      "execution_count": null,
      "metadata": {
        "id": "M4vBcU9-wEnz",
        "outputId": "6f40f49a-e959-4adf-faf3-55b582ccadd3"
      },
      "outputs": [
        {
          "name": "stdout",
          "output_type": "stream",
          "text": [
            "['pissed', 'bb19', 'annoyed', 'frustrated', 'anger', 'mad', 'angry', 'fedup', 'rage', 'ill', 'tired', 'wrath', 'bb19finale', 'pissedoff', 'offended', 'enraged', 'trump', 'football', 'irritated', 'help']\n"
          ]
        },
        {
          "data": {
            "image/png": "[encoded data removed]",
            "text/plain": [
              "<Figure size 1152x360 with 1 Axes>"
            ]
          },
          "metadata": {
            "needs_background": "light"
          },
          "output_type": "display_data"
        }
      ],
      "source": [
        "a = nltk.FreqDist(HT_anger)\n",
        "d = pd.DataFrame({'Hashtag': list(a.keys()),\n",
        "                  'Count': list(a.values())})\n",
        "\n",
        "# selecting top 20 most frequent hashtags     \n",
        "d = d.nlargest(columns=\"Count\", n = 20) \n",
        "anger_keys = d[\"Hashtag\"].values.tolist()\n",
        "print(anger_keys)\n",
        "plt.figure(figsize=(16,5))\n",
        "ax = sns.barplot(data=d, x= \"Hashtag\", y = \"Count\")\n",
        "ax.set(ylabel = 'Count')\n",
        "plt.savefig('anger.png')\n",
        "plt.show()"
      ]
    },
    {
      "cell_type": "markdown",
      "metadata": {
        "id": "NIpmGD3owEnz"
      },
      "source": [
        "### Anticipation Hashtag"
      ]
    },
    {
      "cell_type": "code",
      "execution_count": null,
      "metadata": {
        "id": "gZc5ZHUvwEnz",
        "outputId": "0f52d1ea-3072-4132-a2c4-8ff224627583"
      },
      "outputs": [
        {
          "name": "stdout",
          "output_type": "stream",
          "text": [
            "['god', 'life', 'dream', 'jesus', 'faith', 'excited', 'pray', 'believe', 'motivation', 'success', 'wisdom', 'trump', 'maga', 'mondaymotivation', 'christ', 'inspiration', 'hungry', 'inspire', 'entrepreneur', 'waiting']\n"
          ]
        },
        {
          "data": {
            "image/png": "[encoded data removed]",
            "text/plain": [
              "<Figure size 1152x360 with 1 Axes>"
            ]
          },
          "metadata": {
            "needs_background": "light"
          },
          "output_type": "display_data"
        }
      ],
      "source": [
        "a = nltk.FreqDist(HT_anticipation)\n",
        "d = pd.DataFrame({'Hashtag': list(a.keys()),\n",
        "                  'Count': list(a.values())})\n",
        "\n",
        "# selecting top 20 most frequent hashtags     \n",
        "d = d.nlargest(columns=\"Count\", n = 20) \n",
        "anticipation_keys = d[\"Hashtag\"].values.tolist()\n",
        "print(anticipation_keys)\n",
        "plt.figure(figsize=(16,5))\n",
        "ax = sns.barplot(data=d, x= \"Hashtag\", y = \"Count\")\n",
        "ax.set(ylabel = 'Count')\n",
        "plt.savefig('anger.png')\n",
        "plt.show()"
      ]
    },
    {
      "cell_type": "markdown",
      "metadata": {
        "id": "ZL9XqJYxwEnz"
      },
      "source": [
        "### Disgust Hashtag"
      ]
    },
    {
      "cell_type": "code",
      "execution_count": null,
      "metadata": {
        "id": "8LtcnO47wEnz",
        "outputId": "c36db612-a912-4a9c-be77-73d42ab06d60"
      },
      "outputs": [
        {
          "name": "stdout",
          "output_type": "stream",
          "text": [
            "['wtf', 'shame', 'stupid', 'trump', 'dumb', 'lame', 'bb19', 'gross', 'smh', 'nfl', 'lol', 'maga', 'why', 'nasty', 'resist', 'fail', 'terrible', 'racist', 'charlottesville', 'gameofthrones']\n"
          ]
        },
        {
          "data": {
            "image/png": "[encoded data removed]",
            "text/plain": [
              "<Figure size 1152x360 with 1 Axes>"
            ]
          },
          "metadata": {
            "needs_background": "light"
          },
          "output_type": "display_data"
        }
      ],
      "source": [
        "a = nltk.FreqDist(HT_disgust)\n",
        "d = pd.DataFrame({'Hashtag': list(a.keys()),\n",
        "                  'Count': list(a.values())})\n",
        "\n",
        "# selecting top 20 most frequent hashtags     \n",
        "d = d.nlargest(columns=\"Count\", n = 20) \n",
        "disgust_keys = d[\"Hashtag\"].values.tolist()\n",
        "print(disgust_keys)\n",
        "plt.figure(figsize=(16,5))\n",
        "ax = sns.barplot(data=d, x= \"Hashtag\", y = \"Count\")\n",
        "ax.set(ylabel = 'Count')\n",
        "plt.savefig('anticipation.png')\n",
        "plt.show()"
      ]
    },
    {
      "cell_type": "markdown",
      "metadata": {
        "id": "W7ppmECRwEn0"
      },
      "source": [
        "### Fear Hashtag"
      ]
    },
    {
      "cell_type": "code",
      "execution_count": null,
      "metadata": {
        "id": "FiwxvyEgwEn0",
        "outputId": "b3bc9c29-6ff2-44f4-f1b5-8f82d582c335"
      },
      "outputs": [
        {
          "name": "stdout",
          "output_type": "stream",
          "text": [
            "['insecure', 'fear', 'jealous', 'halloween', 'power', 'gameofthrones', 'scared', 'nervous', 'anxiety', 'got', 'spooky', 'treats', 'life', 'worried', 'courage', 'success', 'scary', 'trump', 'anxious', 'overwhelmed']\n"
          ]
        },
        {
          "data": {
            "image/png": "[encoded data removed]",
            "text/plain": [
              "<Figure size 1152x360 with 1 Axes>"
            ]
          },
          "metadata": {
            "needs_background": "light"
          },
          "output_type": "display_data"
        }
      ],
      "source": [
        "a = nltk.FreqDist(HT_fear)\n",
        "d = pd.DataFrame({'Hashtag': list(a.keys()),\n",
        "                  'Count': list(a.values())})\n",
        "\n",
        "# selecting top 20 most frequent hashtags     \n",
        "d = d.nlargest(columns=\"Count\", n = 20) \n",
        "fear_keys = d[\"Hashtag\"].values.tolist()\n",
        "print(fear_keys)\n",
        "plt.figure(figsize=(16,5))\n",
        "ax = sns.barplot(data=d, x= \"Hashtag\", y = \"Count\")\n",
        "ax.set(ylabel = 'Count')\n",
        "plt.savefig('fear.png')\n",
        "plt.show()"
      ]
    },
    {
      "cell_type": "markdown",
      "metadata": {
        "id": "d5yjuWR1wEn0"
      },
      "source": [
        "### Sadness Hashtag"
      ]
    },
    {
      "cell_type": "code",
      "execution_count": null,
      "metadata": {
        "id": "byzMKqxQwEn0",
        "outputId": "79b60672-5d5d-44d3-d995-d6be006e9cd9"
      },
      "outputs": [
        {
          "name": "stdout",
          "output_type": "stream",
          "text": [
            "['sad', 'confused', 'trump', 'disappointed', 'maga', 'awkward', 'broken', 'blue', 'faketweets', 'guilty', 'alone', 'useless', 'life', 'help', 'stressed', 'broke', 'down', 'impeachtrump', 'fail', 'resist']\n"
          ]
        },
        {
          "data": {
            "image/png": "[encoded data removed]",
            "text/plain": [
              "<Figure size 1152x360 with 1 Axes>"
            ]
          },
          "metadata": {
            "needs_background": "light"
          },
          "output_type": "display_data"
        }
      ],
      "source": [
        "a = nltk.FreqDist(HT_sadness)\n",
        "d = pd.DataFrame({'Hashtag': list(a.keys()),\n",
        "                  'Count': list(a.values())})\n",
        "\n",
        "# selecting top 20 most frequent hashtags     \n",
        "d = d.nlargest(columns=\"Count\", n = 20) \n",
        "sadness_keys = d[\"Hashtag\"].values.tolist()\n",
        "print(sadness_keys)\n",
        "plt.figure(figsize=(16,5))\n",
        "ax = sns.barplot(data=d, x= \"Hashtag\", y = \"Count\")\n",
        "ax.set(ylabel = 'Count')\n",
        "plt.savefig('sadness.png')\n",
        "plt.show()\n"
      ]
    },
    {
      "cell_type": "markdown",
      "metadata": {
        "id": "aJ2Dnz3zwEn0"
      },
      "source": [
        "### Surprise Hashtag"
      ]
    },
    {
      "cell_type": "code",
      "execution_count": null,
      "metadata": {
        "id": "oLVaE8M5wEn0",
        "outputId": "e2077aca-b7b7-497b-b533-90bfa6061d35"
      },
      "outputs": [
        {
          "name": "stdout",
          "output_type": "stream",
          "text": [
            "['crazy', 'lost', 'weird', 'ass', 'surprise', 'pussy', 'trump', 'shocked', 'girls', 'distraction', 'different', 'strange', 'dm', 'snapchat', 'impressed', 'dick', 'tits', 'life', 'porn', 'naughty']\n"
          ]
        },
        {
          "data": {
            "image/png": "[encoded data removed]",
            "text/plain": [
              "<Figure size 1152x360 with 1 Axes>"
            ]
          },
          "metadata": {
            "needs_background": "light"
          },
          "output_type": "display_data"
        }
      ],
      "source": [
        "a = nltk.FreqDist(HT_surprise)\n",
        "d = pd.DataFrame({'Hashtag': list(a.keys()),\n",
        "                  'Count': list(a.values())})\n",
        "\n",
        "# selecting top 20 most frequent hashtags     \n",
        "d = d.nlargest(columns=\"Count\", n = 20) \n",
        "surprise_keys = d[\"Hashtag\"].values.tolist()\n",
        "print(surprise_keys)\n",
        "plt.figure(figsize=(16,5))\n",
        "ax = sns.barplot(data=d, x= \"Hashtag\", y = \"Count\")\n",
        "ax.set(ylabel = 'Count')\n",
        "plt.savefig('surprise.png')\n",
        "plt.show()"
      ]
    },
    {
      "cell_type": "markdown",
      "metadata": {
        "id": "Tgc-DvoNwEn0"
      },
      "source": [
        "### Trust Hashtag"
      ]
    },
    {
      "cell_type": "code",
      "execution_count": null,
      "metadata": {
        "id": "M-h_dRF4wEn0",
        "outputId": "806deb40-35ff-440c-eeb7-7a46bcb82acb"
      },
      "outputs": [
        {
          "name": "stdout",
          "output_type": "stream",
          "text": [
            "['life', 'grateful', 'thankful', 'proud', 'hope', 'thanks', 'help', 'followers', 'trust', 'pride', 'gratitude', 'today', 'motivation', 'healthy', 'inspiration', 'success', 'safe', 'inspired', 'health', 'cute']\n"
          ]
        },
        {
          "data": {
            "image/png": "[encoded data removed]",
            "text/plain": [
              "<Figure size 1152x360 with 1 Axes>"
            ]
          },
          "metadata": {
            "needs_background": "light"
          },
          "output_type": "display_data"
        }
      ],
      "source": [
        "a = nltk.FreqDist(HT_trust)\n",
        "d = pd.DataFrame({'Hashtag': list(a.keys()),\n",
        "                  'Count': list(a.values())})\n",
        "\n",
        "# selecting top 20 most frequent hashtags     \n",
        "d = d.nlargest(columns=\"Count\", n = 20) \n",
        "trust_keys = d[\"Hashtag\"].values.tolist()\n",
        "print(trust_keys)\n",
        "plt.figure(figsize=(16,5))\n",
        "ax = sns.barplot(data=d, x= \"Hashtag\", y = \"Count\")\n",
        "ax.set(ylabel = 'Count')\n",
        "plt.savefig('trust.png')\n",
        "plt.show()"
      ]
    },
    {
      "cell_type": "markdown",
      "metadata": {
        "id": "3CxvGPXewEn0"
      },
      "source": [
        "### Joy Hashtag"
      ]
    },
    {
      "cell_type": "code",
      "execution_count": null,
      "metadata": {
        "id": "YmEN1nVowEn0",
        "outputId": "e0d22760-6a52-4dda-e6c0-340e628f8925"
      },
      "outputs": [
        {
          "name": "stdout",
          "output_type": "stream",
          "text": [
            "['love', 'blessed', 'life', 'special', 'everyday', 'happy', 'awesome', 'female', 'faith', 'hope', 'amazing', 'content', 'beautiful', 'thanks', 'motivation', 'inspiration', 'success', 'joy', 'perfect', 'world']\n"
          ]
        },
        {
          "data": {
            "image/png": "[encoded data removed]",
            "text/plain": [
              "<Figure size 1152x360 with 1 Axes>"
            ]
          },
          "metadata": {
            "needs_background": "light"
          },
          "output_type": "display_data"
        }
      ],
      "source": [
        "a = nltk.FreqDist(HT_joy)\n",
        "d = pd.DataFrame({'Hashtag': list(a.keys()),\n",
        "                  'Count': list(a.values())})\n",
        "\n",
        "# selecting top 20 most frequent hashtags     \n",
        "d = d.nlargest(columns=\"Count\", n = 20) \n",
        "joy_keys = d[\"Hashtag\"].values.tolist()\n",
        "print(joy_keys)\n",
        "plt.figure(figsize=(16,5))\n",
        "ax = sns.barplot(data=d, x= \"Hashtag\", y = \"Count\")\n",
        "ax.set(ylabel = 'Count')\n",
        "plt.savefig('joy.png')\n",
        "plt.show()\n",
        "\n",
        "HT_test = hashtag_extract(test['text'])"
      ]
    },
    {
      "cell_type": "code",
      "execution_count": null,
      "metadata": {
        "id": "lY3_Flg6wEn1"
      },
      "outputs": [],
      "source": [
        "for i in range(len(HT_test)):\n",
        "    sameNum_emotion = []\n",
        "    # anger\n",
        "    sameTerm = [l for l in anger_keys if l in HT_test[i]]\n",
        "    sameNum = len(sameTerm)\n",
        "    sameNum_emotion.append(sameNum)\n",
        "    # anticipation\n",
        "    sameTerm = [l for l in anticipation_keys if l in HT_test[i]]\n",
        "    sameNum = len(sameTerm)\n",
        "    sameNum_emotion.append(sameNum)\n",
        "    # disgust\n",
        "    sameTerm = [l for l in disgust_keys if l in HT_test[i]]\n",
        "    sameNum = len(sameTerm)\n",
        "    sameNum_emotion.append(sameNum)\n",
        "    # fear\n",
        "    sameTerm = [l for l in fear_keys if l in HT_test[i]]\n",
        "    sameNum = len(sameTerm)\n",
        "    sameNum_emotion.append(sameNum)\n",
        "    # sadness\n",
        "    sameTerm = [l for l in sadness_keys if l in HT_test[i]]\n",
        "    sameNum = len(sameTerm)\n",
        "    sameNum_emotion.append(sameNum)\n",
        "    # surprise\n",
        "    sameTerm = [l for l in surprise_keys if l in HT_test[i]]\n",
        "    sameNum = len(sameTerm)\n",
        "    sameNum_emotion.append(sameNum)\n",
        "    # trust\n",
        "    sameTerm = [l for l in trust_keys if l in HT_test[i]]\n",
        "    sameNum = len(sameTerm)\n",
        "    sameNum_emotion.append(sameNum)\n",
        "    # joy\n",
        "    sameTerm = [l for l in joy_keys if l in HT_test[i]]\n",
        "    sameNum = len(sameTerm)\n",
        "    sameNum_emotion.append(sameNum)\n",
        "    \n",
        "    n = 0\n",
        "    MAX = max(sameNum_emotion)\n",
        "    if MAX != 0:\n",
        "        #print(i, sameNum_emotion)\n",
        "        for j in range(8):\n",
        "            if sameNum_emotion[j] == MAX:\n",
        "                n +=1\n",
        "        if n == 1:\n",
        "            index = sameNum_emotion.index(MAX)\n",
        "            test.loc[i, \"emotion\"] = emotion[index]\n",
        "            #print(emotion[index])"
      ]
    },
    {
      "cell_type": "code",
      "execution_count": null,
      "metadata": {
        "id": "drJXdrgZwEn1",
        "outputId": "e72c9103-db94-4285-d5cb-2fdd9db4f9ad"
      },
      "outputs": [
        {
          "name": "stdout",
          "output_type": "stream",
          "text": [
            "test.shape:  (411972, 5)\n",
            "len of test[test['emotion'] != 0]:  7009\n"
          ]
        }
      ],
      "source": [
        "print(\"test.shape: \", test.shape)\n",
        "test.to_csv(\"test_hashtag.csv\", index=False)\n",
        "\n",
        "print(\"len of test[test['emotion'] != 0]: \", len(test[test['emotion'] != 0])) #7009"
      ]
    },
    {
      "cell_type": "markdown",
      "metadata": {
        "id": "Msvbe70bwEn1"
      },
      "source": [
        "---"
      ]
    },
    {
      "cell_type": "markdown",
      "metadata": {
        "id": "LTYlyFzAwEn1"
      },
      "source": [
        "## 3. Data Exploration - Emoji>>Emotion"
      ]
    },
    {
      "cell_type": "code",
      "execution_count": null,
      "metadata": {
        "id": "b8LEWO3YwEn1",
        "outputId": "41ee17d5-0685-476a-c4b5-b526d14b109f"
      },
      "outputs": [
        {
          "name": "stdout",
          "output_type": "stream",
          "text": [
            "Requirement already satisfied: emoji in /Users/jhihchingyeh/opt/anaconda3/lib/python3.8/site-packages (1.6.1)\r\n"
          ]
        }
      ],
      "source": [
        "!pip install emoji"
      ]
    },
    {
      "cell_type": "code",
      "execution_count": null,
      "metadata": {
        "id": "SdIzr-GtwEn1",
        "outputId": "17c5e736-473c-4627-d5e3-bd6be790ce85"
      },
      "outputs": [
        {
          "name": "stdout",
          "output_type": "stream",
          "text": [
            "['🥇', '🥈', '🥉', '🆎', '🏧', '🅰️', '🇦🇫', '🇦🇱', '🇩🇿', '🇦🇸']\n"
          ]
        }
      ],
      "source": [
        "# Take a look for emoji list \n",
        "emoji_list = [v for k,v in emoji.EMOJI_UNICODE['en'].items()] #3633\n",
        "print(emoji_list[:10])"
      ]
    },
    {
      "cell_type": "code",
      "execution_count": null,
      "metadata": {
        "id": "GlLm1WU2wEn1",
        "outputId": "f4851de8-b9e2-43db-88d1-3c55c726697e"
      },
      "outputs": [
        {
          "name": "stdout",
          "output_type": "stream",
          "text": [
            "🥇 ['joy', 'sadness', 'trust', 'trust', 'joy', 'joy', 'trust', 'disgust', 'anticipation', 'joy', 'trust', 'joy', 'anticipation', 'anticipation', 'trust', 'trust', 'joy', 'joy', 'anticipation', 'trust', 'joy', 'trust', 'trust', 'trust', 'anticipation', 'trust', 'joy', 'trust', 'joy', 'joy', 'trust', 'trust', 'trust', 'joy', 'trust', 'joy', 'trust', 'trust', 'joy', 'anticipation', 'joy', 'disgust', 'joy', 'joy', 'joy', 'trust', 'anticipation', 'trust', 'trust', 'anticipation', 'trust', 'trust', 'joy', 'trust', 'anticipation', 'trust', 'trust', 'joy', 'joy', 'trust', 'surprise', 'joy', 'joy', 'joy', 'trust', 'trust', 'joy', 'trust', 'trust', 'joy', 'trust', 'trust', 'anticipation', 'trust', 'anticipation', 'joy', 'joy', 'trust', 'joy', 'joy', 'anticipation', 'surprise', 'anticipation', 'anticipation', 'anticipation', 'joy', 'joy', 'joy', 'joy', 'trust', 'joy', 'trust', 'anticipation', 'joy', 'trust', 'anticipation', 'trust', 'trust', 'joy', 'joy', 'trust', 'joy', 'joy', 'joy', 'joy', 'trust', 'anticipation', 'joy', 'trust', 'trust', 'joy', 'trust', 'trust', 'disgust', 'joy', 'anticipation', 'trust', 'joy', 'anticipation', 'trust', 'trust', 'joy', 'trust', 'trust', 'joy', 'trust', 'anticipation', 'joy', 'joy', 'joy', 'joy', 'joy', 'anticipation', 'trust', 'fear', 'anger', 'sadness', 'trust', 'trust', 'trust', 'sadness', 'joy', 'trust', 'joy', 'joy', 'trust', 'sadness', 'trust', 'joy', 'joy', 'joy', 'joy', 'trust', 'anticipation', 'trust', 'joy', 'joy', 'anticipation', 'joy', 'trust', 'joy', 'joy', 'joy', 'joy', 'joy', 'anticipation', 'joy', 'joy', 'joy', 'trust', 'joy', 'trust', 'trust', 'joy', 'anticipation', 'disgust', 'joy', 'joy', 'trust', 'fear', 'trust', 'anticipation', 'fear', 'trust', 'disgust', 'joy', 'trust', 'joy', 'anticipation', 'joy', 'trust', 'joy', 'joy', 'fear', 'trust', 'anticipation', 'joy', 'anticipation', 'trust', 'joy', 'anticipation', 'joy', 'joy', 'joy', 'anticipation', 'joy', 'surprise', 'joy', 'trust', 'trust', 'anticipation', 'joy', 'joy', 'anticipation', 'trust', 'trust', 'trust', 'joy', 'joy', 'trust', 'trust', 'trust', 'trust', 'disgust', 'trust', 'anticipation', 'trust', 'trust', 'anger', 'anticipation', 'anticipation', 'joy', 'trust', 'trust', 'trust', 'trust', 'joy', 'joy', 'joy', 'joy', 'anticipation']\n"
          ]
        }
      ],
      "source": [
        "# Program is too large, so I ran it on the server after object 10\n",
        "# Build df_emoji to store what emotion is the sentiment of the data containing the emoji in each row\n",
        "\n",
        "df_emoji = pd.DataFrame(columns = [\"emoji\", \"emotion\", \"emoji_ans\", \"len\"])\n",
        "\n",
        "n = 0\n",
        "for emoji in emoji_list:\n",
        "    empty = True\n",
        "    emoji_emotion = []\n",
        "    for i in range(len(train)):\n",
        "        t = train.loc[i, \"text\"]\n",
        "        if emoji in t:\n",
        "            empty = False\n",
        "            emoji_emotion.append(train[\"emotion\"][i])\n",
        "    if empty == False:\n",
        "        df_emoji=df_emoji.append({'emoji' : emoji , 'emotion' : emoji_emotion}, ignore_index=True)\n",
        "        # Try 10 emoji to show what I did, and the others is run on server\n",
        "        if n < 10:\n",
        "            print(emoji, emoji_emotion)\n",
        "            break"
      ]
    },
    {
      "cell_type": "code",
      "execution_count": null,
      "metadata": {
        "id": "3zegHdv-wEn1"
      },
      "outputs": [],
      "source": [
        "# Delete the emoji only appear once\n",
        "df_emoji = df_emoji[df_emoji[\"len\"] != 1].reset_index(drop=True)"
      ]
    },
    {
      "cell_type": "code",
      "execution_count": null,
      "metadata": {
        "id": "MAAJLEmawEn1",
        "outputId": "8629dee2-b2df-4cf9-924a-74c0b08fe03a"
      },
      "outputs": [
        {
          "name": "stdout",
          "output_type": "stream",
          "text": [
            "🥇 joy\n"
          ]
        }
      ],
      "source": [
        "# Categorize emoji into various emotions\n",
        "for i in range(len(df_emoji)):\n",
        "    maxNum = 0\n",
        "    emotionAppNum = [0,0,0,0,0,0,0,0]\n",
        "    emo_kind = df_emoji.loc[i,\"emotion\"]\n",
        "    for j in range(len(emo_kind)):\n",
        "        for k in range(8):\n",
        "            if emo_kind[j] == emotion[k]:\n",
        "                emotionAppNum[k] +=1\n",
        "    if max(emotionAppNum) > 1:\n",
        "        for m in range(8):\n",
        "            if emotionAppNum[m] == max(emotionAppNum):\n",
        "                maxNum +=1\n",
        "    if maxNum == 1:\n",
        "        index_ = emotionAppNum.index(max(emotionAppNum))\n",
        "        emojiEmotion = emotion[index_] #ans\n",
        "        df_emoji.loc[i, \"emoji_ans\"] = emojiEmotion\n",
        "        print(df_emoji[\"emoji\"][i], emojiEmotion)"
      ]
    },
    {
      "cell_type": "code",
      "execution_count": null,
      "metadata": {
        "id": "bvJP5p7UwEn1",
        "outputId": "2ae4efef-9ff7-4be8-f727-d3f43d47f8f2"
      },
      "outputs": [
        {
          "data": {
            "text/html": [
              "<div>\n",
              "<style scoped>\n",
              "    .dataframe tbody tr th:only-of-type {\n",
              "        vertical-align: middle;\n",
              "    }\n",
              "\n",
              "    .dataframe tbody tr th {\n",
              "        vertical-align: top;\n",
              "    }\n",
              "\n",
              "    .dataframe thead th {\n",
              "        text-align: right;\n",
              "    }\n",
              "</style>\n",
              "<table border=\"1\" class=\"dataframe\">\n",
              "  <thead>\n",
              "    <tr style=\"text-align: right;\">\n",
              "      <th></th>\n",
              "      <th>emoji</th>\n",
              "      <th>emotion</th>\n",
              "      <th>emoji_ans</th>\n",
              "      <th>len</th>\n",
              "    </tr>\n",
              "  </thead>\n",
              "  <tbody>\n",
              "    <tr>\n",
              "      <th>0</th>\n",
              "      <td>🥇</td>\n",
              "      <td>[joy, sadness, trust, trust, joy, joy, trust, ...</td>\n",
              "      <td>joy</td>\n",
              "      <td>NaN</td>\n",
              "    </tr>\n",
              "  </tbody>\n",
              "</table>\n",
              "</div>"
            ],
            "text/plain": [
              "  emoji                                            emotion emoji_ans  len\n",
              "0     🥇  [joy, sadness, trust, trust, joy, joy, trust, ...       joy  NaN"
            ]
          },
          "execution_count": 27,
          "metadata": {},
          "output_type": "execute_result"
        }
      ],
      "source": [
        "df_emoji.head()"
      ]
    },
    {
      "cell_type": "code",
      "execution_count": null,
      "metadata": {
        "id": "wvpzKw7dwEn1"
      },
      "outputs": [],
      "source": [
        "df_emoji.to_csv(\"df_emoji.csv\", index=False)"
      ]
    },
    {
      "cell_type": "markdown",
      "metadata": {
        "id": "aq2hblnqwEn1"
      },
      "source": [
        "---"
      ]
    },
    {
      "cell_type": "markdown",
      "metadata": {
        "id": "52tT7fJ7wEn1"
      },
      "source": [
        "## 4. Bert Model\n",
        "(Program is too large, so I ran it on the server)"
      ]
    },
    {
      "cell_type": "markdown",
      "metadata": {
        "id": "QZWIwSAawEn2"
      },
      "source": [
        "### a. Data preprocessing"
      ]
    },
    {
      "cell_type": "code",
      "execution_count": null,
      "metadata": {
        "id": "3cYGYg68wEn2"
      },
      "outputs": [],
      "source": [
        "# Replace some special text by regularize words\n",
        "# EX: @ERIC ===> USER\n",
        "# EX: 25 times ===> NUM times\n",
        "\n",
        "emailsRegex = re.compile(r'[\\w\\.-]+@[\\w\\.-]+')\n",
        "userMentionsRegex = re.compile(r'(?<=^|(?<=[^a-zA-Z0-9-_\\.]))@([A-Za-z]+[A-Za-z0-9]+)')\n",
        "urlsRegex = re.compile('r(f|ht)(tp)(s?)(://)(.*)[.|/][^ ]+')\n",
        "numsRegex = re.compile(r\"\\b\\d+\\b\")\n",
        "\n",
        "texts = train_data['text']\n",
        "start = time.time()\n",
        "texts = texts.apply(lambda a:a.replace(\"<LH>\",\"\"))\n",
        "texts = texts.apply(lambda a:userMentionsRegex.sub(' USER',a))\n",
        "texts = texts.apply(lambda a:emailsRegex.sub(' EMAIL',a))\n",
        "texts = texts.apply(lambda a:urlsRegex.sub(' URL',a))\n",
        "texts = texts.apply(lambda a:numsRegex.sub(' NUM',a))"
      ]
    },
    {
      "cell_type": "code",
      "execution_count": null,
      "metadata": {
        "id": "V_aob3lGwEn2"
      },
      "outputs": [],
      "source": [
        "texts = list(train['text'])\n",
        "labels = list(train['emotion_code'])"
      ]
    },
    {
      "cell_type": "code",
      "execution_count": null,
      "metadata": {
        "id": "W9AJX8u1wEn2"
      },
      "outputs": [],
      "source": [
        "# Tokenizer\n",
        "tokenizer = Tokenizer()\n",
        "tokenizer.fit_on_texts(texts)\n",
        "sequences = tokenizer.texts_to_sequences(texts)\n",
        "word_index = tokenizer.word_index"
      ]
    },
    {
      "cell_type": "code",
      "execution_count": null,
      "metadata": {
        "id": "ibWOQE1zwEn2"
      },
      "outputs": [],
      "source": [
        "max_len=60 \n",
        "data = pad_sequences(sequences, maxlen=max_len)\n",
        "print('data shape:', data.shape)"
      ]
    },
    {
      "cell_type": "code",
      "execution_count": null,
      "metadata": {
        "id": "_sVY2tYQwEn2"
      },
      "outputs": [],
      "source": [
        "# Split the data\n",
        "x_train,x_test,y_train,y_test = train_test_split(data, label, test_size=0.25, random_state=20191118)"
      ]
    },
    {
      "cell_type": "markdown",
      "metadata": {
        "id": "1KchhB3swEn2"
      },
      "source": [
        "### b. Using pre-trained words embedding (glove)"
      ]
    },
    {
      "cell_type": "code",
      "execution_count": null,
      "metadata": {
        "id": "M0WfOzTHwEn2"
      },
      "outputs": [],
      "source": [
        "EMBEDDING_DIM = 100\n",
        " \n",
        "embeddings_index = {}\n",
        "f = open(r'glove.twitter.27B.100d.txt',encoding=\"utf-8\")\n",
        "print(\"Loading GloVe\")\n",
        "for line in f:\n",
        "    values = line.split()\n",
        "    word = values[0]\n",
        "    coefs = np.asarray(values[1:], dtype='float32')\n",
        "    embeddings_index[word] = coefs\n",
        "f.close()\n",
        "print(\"Done.\\nProceeding with Embedding Matrix...\")\n",
        "embedding_matrix = np.random.random((len(word_index) + 1, EMBEDDING_DIM))\n",
        "for word, i in word_index.items():\n",
        "    embedding_vector = embeddings_index.get(word)\n",
        "    # Words not found in embedding index will be all-zeros.\n",
        "    if embedding_vector is not None:\n",
        "        embedding_matrix[i] = embedding_vector\n",
        "print(\"Completed!\")"
      ]
    },
    {
      "cell_type": "code",
      "execution_count": null,
      "metadata": {
        "id": "_boOMr1YwEn2"
      },
      "outputs": [],
      "source": [
        "embedding_layer = Embedding(len(word_index) + 1,\n",
        "                            EMBEDDING_DIM,\n",
        "                            weights=[embedding_matrix],\n",
        "                            input_length=max_len,\n",
        "                            trainable=True)"
      ]
    },
    {
      "cell_type": "markdown",
      "metadata": {
        "id": "MjZWSUepwEn2"
      },
      "source": [
        "### c. Bert Model"
      ]
    },
    {
      "cell_type": "code",
      "execution_count": null,
      "metadata": {
        "id": "J5jU0XBowEn2"
      },
      "outputs": [],
      "source": [
        "# the best result is 0.469\n",
        "sequence_input = Input(shape=(max_len,), dtype='int32')\n",
        "embedded_sequences = embedding_layer(sequence_input)\n",
        "l_lstm1 = Bidirectional(LSTM(70,dropout=0.4,recurrent_dropout=0.4,return_sequences=True))(embedded_sequences)\n",
        "l_cov1= Conv1D(100, 3, activation='relu',kernel_regularizer=regularizers.l2(0.02))(l_lstm1)\n",
        "l_pool1 = MaxPooling1D(2)(l_cov1)\n",
        "l_drop1 = Dropout(0.4)(l_pool1)\n",
        "l_flat = Flatten()(l_drop1)\n",
        "l_dense = Dense(50, activation='relu')(l_flat)\n",
        "preds = Dense(8, activation='softmax')(l_dense)\n",
        "\n",
        "model = Model(sequence_input,preds)\n",
        "adam= optimizers.Adam(lr=0.0001, beta_1=0.9, beta_2=0.999, epsilon=None, decay=0, amsgrad=False)\n",
        "#adadelta = optimizers.Adadelta(lr=1.0, rho=0.95, epsilon=None, decay=0.0)\n",
        "model.compile(loss='categorical_crossentropy', optimizer=adam, metrics=['acc'])\n",
        "model.summary()"
      ]
    },
    {
      "cell_type": "code",
      "execution_count": null,
      "metadata": {
        "id": "_9hz1zyswEn2"
      },
      "outputs": [],
      "source": [
        "epoch = 5\n",
        "batch_size = 500"
      ]
    },
    {
      "cell_type": "code",
      "execution_count": null,
      "metadata": {
        "id": "Z37HnNb4wEn2"
      },
      "outputs": [],
      "source": [
        "# Only save the best model.\n",
        "path = \"model/best.h5\"\n",
        "checkpoint = callbacks.ModelCheckpoint(path, monitor='val_acc',verbose=1, save_best_only=True)\n",
        "csv_logger = callbacks.CSVLogger(\"model/model_history.csv\", separator=',',append=True)"
      ]
    },
    {
      "cell_type": "code",
      "execution_count": null,
      "metadata": {
        "id": "nYf74y09wEn2"
      },
      "outputs": [],
      "source": [
        "train_history =model.fit(x_train, y_train, validation_data=(x_test, y_test),\n",
        "                         epochs=epoch, batch_size=batch_size,callbacks=[checkpoint,csv_logger])"
      ]
    },
    {
      "cell_type": "code",
      "execution_count": null,
      "metadata": {
        "id": "0RtuPI6mwEn2"
      },
      "outputs": [],
      "source": [
        "#Plot the Loss/Acc \n",
        "import matplotlib.pyplot as plt \n",
        "plt.plot(train_history.history['acc'])\n",
        "plt.plot(train_history.history['val_acc'])\n",
        "plt.title('Model accuracy')\n",
        "plt.ylabel('Accuracy')\n",
        "plt.xlabel('Epoch')\n",
        "plt.legend(['Train', 'Test'], loc='upper left')\n",
        "plt.show()"
      ]
    },
    {
      "cell_type": "markdown",
      "metadata": {
        "id": "cxd3U-NTwEn3"
      },
      "source": [
        "### d. Create submition csv"
      ]
    },
    {
      "cell_type": "code",
      "execution_count": null,
      "metadata": {
        "id": "4xyxeKKdwEn3"
      },
      "outputs": [],
      "source": [
        "texts = list(test_data['text'])\n",
        "test_sequences = tokenizer.texts_to_sequences(texts)\n",
        "test = pad_sequences(test_sequences, maxlen=max_len)"
      ]
    },
    {
      "cell_type": "code",
      "execution_count": null,
      "metadata": {
        "id": "Z1Z_FAAOwEn3"
      },
      "outputs": [],
      "source": [
        "model = load_model('model/best.h5')\n",
        "predict = model.predict(test,batch_size=batch_size)\n",
        "pre = np.argmax(predict, axis=1)\n",
        "result = label_encoder.inverse_transform(pre)\n",
        "test_data['emotion'] = result\n",
        "test_data=test_data.drop(['identification','text'],axis=1)\n",
        "Submission['emotion']=test_data['emotion']\n",
        "Submission.to_csv('result.csv')"
      ]
    },
    {
      "cell_type": "markdown",
      "metadata": {
        "id": "EiJTzoHxwEn3"
      },
      "source": [
        "---"
      ]
    },
    {
      "cell_type": "markdown",
      "metadata": {
        "id": "80mqldiXwEn3"
      },
      "source": [
        "## 5. Association Rule by Result with Hashtag, Emoji and Bert Model"
      ]
    },
    {
      "cell_type": "code",
      "execution_count": null,
      "metadata": {
        "id": "6JaMnrTswEn3"
      },
      "outputs": [],
      "source": [
        "# Read all data above\n",
        "naive_bayes = pd.read_csv(r\"result/result_0.5.csv\", lineterminator='\\n')\n",
        "hashtag = pd.read_csv(r\"result/test_hashtag.csv\", lineterminator='\\n')\n",
        "emoji = pd.read_csv(r\"result/test_emoji.csv\", lineterminator='\\n')"
      ]
    },
    {
      "cell_type": "code",
      "execution_count": null,
      "metadata": {
        "id": "j8ThZQ-ZwEn3",
        "outputId": "b11fc88c-6de1-4e96-b766-56e54d314b8c"
      },
      "outputs": [
        {
          "name": "stdout",
          "output_type": "stream",
          "text": [
            "(411972, 2)\n",
            "(411972, 5)\n",
            "(411972, 7)\n"
          ]
        }
      ],
      "source": [
        "print(naive_bayes.shape)\n",
        "print(hashtag.shape)\n",
        "print(emoji.shape)"
      ]
    },
    {
      "cell_type": "code",
      "execution_count": null,
      "metadata": {
        "id": "vqy7eKEnwEn3"
      },
      "outputs": [],
      "source": [
        "# Rename\n",
        "hashtag = hashtag.rename(columns={'tweet_id':'id'})\n",
        "hashtag = hashtag.rename(columns={'emotion':'hashtag_emo'})\n",
        "emoji = emoji.rename(columns={'tweet_id':'id'})\n",
        "emoji = emoji.rename(columns={'emotion':'emoji_emo'})"
      ]
    },
    {
      "cell_type": "code",
      "execution_count": null,
      "metadata": {
        "id": "j0VNSwwcwEn3"
      },
      "outputs": [],
      "source": [
        "# Check the id is the same\n",
        "for i in range(411972):\n",
        "    if naive_bayes[\"id\"][i] != hashtag[\"id\"][i]:\n",
        "        print(\"error: \", i)\n",
        "    if naive_bayes[\"id\"][i] != emoji[\"id\"][i]:\n",
        "        print(\"error: \", i)\n",
        "    if hashtag[\"id\"][i] != emoji[\"id\"][i]:\n",
        "        print(\"error: \", i)"
      ]
    },
    {
      "cell_type": "code",
      "execution_count": null,
      "metadata": {
        "id": "ULqXEiNZwEn3"
      },
      "outputs": [],
      "source": [
        "# Merge them into one df\n",
        "df = pd.merge(naive_bayes, hashtag)\n",
        "df[\"emoji_emo\"] = emoji[\"emoji_emo\"]"
      ]
    },
    {
      "cell_type": "code",
      "execution_count": null,
      "metadata": {
        "id": "o4zFH_nFwEn3",
        "outputId": "01521513-e81c-4d06-a218-0e1e7d0ccde3"
      },
      "outputs": [
        {
          "data": {
            "text/html": [
              "<div>\n",
              "<style scoped>\n",
              "    .dataframe tbody tr th:only-of-type {\n",
              "        vertical-align: middle;\n",
              "    }\n",
              "\n",
              "    .dataframe tbody tr th {\n",
              "        vertical-align: top;\n",
              "    }\n",
              "\n",
              "    .dataframe thead th {\n",
              "        text-align: right;\n",
              "    }\n",
              "</style>\n",
              "<table border=\"1\" class=\"dataframe\">\n",
              "  <thead>\n",
              "    <tr style=\"text-align: right;\">\n",
              "      <th></th>\n",
              "      <th>id</th>\n",
              "      <th>emotion</th>\n",
              "      <th>hashtag_emo</th>\n",
              "      <th>identification</th>\n",
              "      <th>text</th>\n",
              "      <th>hashtags</th>\n",
              "      <th>emoji_emo</th>\n",
              "    </tr>\n",
              "  </thead>\n",
              "  <tbody>\n",
              "    <tr>\n",
              "      <th>0</th>\n",
              "      <td>0x2c7743</td>\n",
              "      <td>joy</td>\n",
              "      <td>0</td>\n",
              "      <td>test</td>\n",
              "      <td>when your friends offer to bring you food 😭💘 #...</td>\n",
              "      <td>['loyal', 'real']</td>\n",
              "      <td>joy</td>\n",
              "    </tr>\n",
              "    <tr>\n",
              "      <th>1</th>\n",
              "      <td>0x2c1eed</td>\n",
              "      <td>joy</td>\n",
              "      <td>0</td>\n",
              "      <td>test</td>\n",
              "      <td>i've never let any money problems stop me.. i ...</td>\n",
              "      <td>[]</td>\n",
              "      <td>joy</td>\n",
              "    </tr>\n",
              "    <tr>\n",
              "      <th>2</th>\n",
              "      <td>0x2826ea</td>\n",
              "      <td>sadness</td>\n",
              "      <td>0</td>\n",
              "      <td>test</td>\n",
              "      <td>@kurtschlichter being a hobby historian chelse...</td>\n",
              "      <td>[]</td>\n",
              "      <td>0</td>\n",
              "    </tr>\n",
              "    <tr>\n",
              "      <th>3</th>\n",
              "      <td>0x356d9a</td>\n",
              "      <td>joy</td>\n",
              "      <td>0</td>\n",
              "      <td>test</td>\n",
              "      <td>#cannabis offers a natural alternative treatme...</td>\n",
              "      <td>['Cannabis', 'Marijuana', 'Weed', 'Hemp', 'Med...</td>\n",
              "      <td>0</td>\n",
              "    </tr>\n",
              "    <tr>\n",
              "      <th>4</th>\n",
              "      <td>0x20fd95</td>\n",
              "      <td>joy</td>\n",
              "      <td>0</td>\n",
              "      <td>test</td>\n",
              "      <td>last friday off before school starts. i'm read...</td>\n",
              "      <td>['FridayFeeling']</td>\n",
              "      <td>0</td>\n",
              "    </tr>\n",
              "  </tbody>\n",
              "</table>\n",
              "</div>"
            ],
            "text/plain": [
              "         id  emotion hashtag_emo identification  \\\n",
              "0  0x2c7743      joy           0           test   \n",
              "1  0x2c1eed      joy           0           test   \n",
              "2  0x2826ea  sadness           0           test   \n",
              "3  0x356d9a      joy           0           test   \n",
              "4  0x20fd95      joy           0           test   \n",
              "\n",
              "                                                text  \\\n",
              "0  when your friends offer to bring you food 😭💘 #...   \n",
              "1  i've never let any money problems stop me.. i ...   \n",
              "2  @kurtschlichter being a hobby historian chelse...   \n",
              "3  #cannabis offers a natural alternative treatme...   \n",
              "4  last friday off before school starts. i'm read...   \n",
              "\n",
              "                                            hashtags emoji_emo  \n",
              "0                                  ['loyal', 'real']       joy  \n",
              "1                                                 []       joy  \n",
              "2                                                 []         0  \n",
              "3  ['Cannabis', 'Marijuana', 'Weed', 'Hemp', 'Med...         0  \n",
              "4                                  ['FridayFeeling']         0  "
            ]
          },
          "execution_count": 34,
          "metadata": {},
          "output_type": "execute_result"
        }
      ],
      "source": [
        "df.head()"
      ]
    },
    {
      "cell_type": "code",
      "execution_count": null,
      "metadata": {
        "id": "14yeKcRwwEn3",
        "outputId": "77c91210-1a2c-49fb-f4b9-43893c883aca"
      },
      "outputs": [
        {
          "name": "stdout",
          "output_type": "stream",
          "text": [
            "Modify:  19\n"
          ]
        }
      ],
      "source": [
        "# Double Check by emoji, hashtag and Bert Model\n",
        "num = 0\n",
        "for i in range(len(df)):\n",
        "    # if we set up the relation between this \"emoji\" to the emotion\n",
        "    if df[\"emoji_emo\"][i] != \"0\":\n",
        "        # if the result predicted by emoji is different from by bert model\n",
        "        if df[\"emotion\"][i] != df[\"emoji_emo\"][i]:\n",
        "            # if we set up the relation between this \"hashtag\" to the emotion\n",
        "            if df[\"hashtag_emo\"][i] != \"0\":\n",
        "                # if the result predicted by hashtag is different from by bert model\n",
        "                if df[\"emotion\"][i] != df[\"hashtag_emo\"][i]:\n",
        "                    # if the result predicted by emoji is the same with by hashtag\n",
        "                    if df[\"emoji_emo\"][i] == df[\"hashtag_emo\"][i]:\n",
        "                        # Change to the this answer\n",
        "                        df.loc[i, \"emotion\"] = df[\"emoji_emo\"][i]\n",
        "                        num +=1\n",
        "                        \n",
        "print(\"Modify: \", num)"
      ]
    },
    {
      "cell_type": "code",
      "execution_count": null,
      "metadata": {
        "id": "rwBY_0JrwEn3"
      },
      "outputs": [],
      "source": [
        "df[[\"id\", \"emotion\"]].to_csv(\"final_result.csv\", index=False)"
      ]
    },
    {
      "cell_type": "code",
      "execution_count": null,
      "metadata": {
        "id": "w9Qhos4WwEn3"
      },
      "outputs": [],
      "source": [
        ""
      ]
    },
    {
      "cell_type": "code",
      "execution_count": null,
      "metadata": {
        "id": "mU-_O4DVwEn3"
      },
      "outputs": [],
      "source": [
        ""
      ]
    }
  ],
  "metadata": {
    "kernelspec": {
      "display_name": "Python 3",
      "language": "python",
      "name": "python3"
    },
    "language_info": {
      "codemirror_mode": {
        "name": "ipython",
        "version": 3
      },
      "file_extension": ".py",
      "mimetype": "text/x-python",
      "name": "python",
      "nbconvert_exporter": "python",
      "pygments_lexer": "ipython3",
      "version": "3.8.5"
    },
    "colab": {
      "name": "Emotion Recognition on Twitter.ipynb",
      "provenance": [],
      "collapsed_sections": [
        "fX30GgqTwEnz",
        "NIpmGD3owEnz",
        "ZL9XqJYxwEnz",
        "d5yjuWR1wEn0",
        "aJ2Dnz3zwEn0",
        "Tgc-DvoNwEn0",
        "3CxvGPXewEn0",
        "QZWIwSAawEn2",
        "1KchhB3swEn2",
        "MjZWSUepwEn2",
        "cxd3U-NTwEn3"
      ]
    }
  },
  "nbformat": 4,
  "nbformat_minor": 0
}